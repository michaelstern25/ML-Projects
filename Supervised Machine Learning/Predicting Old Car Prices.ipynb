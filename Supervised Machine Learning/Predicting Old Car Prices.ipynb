{
 "cells": [
  {
   "cell_type": "code",
   "execution_count": 32,
   "id": "4e7bc372-b72e-4d7d-9eb9-7293eab638be",
   "metadata": {},
   "outputs": [],
   "source": [
    "import pandas as pd\n",
    "import matplotlib.pyplot as plt\n",
    "import seaborn as sns"
   ]
  },
  {
   "cell_type": "code",
   "execution_count": 33,
   "id": "5152afbe-d45b-43fa-b021-bab9a55004c4",
   "metadata": {},
   "outputs": [
    {
     "data": {
      "text/html": [
       "<div>\n",
       "<style scoped>\n",
       "    .dataframe tbody tr th:only-of-type {\n",
       "        vertical-align: middle;\n",
       "    }\n",
       "\n",
       "    .dataframe tbody tr th {\n",
       "        vertical-align: top;\n",
       "    }\n",
       "\n",
       "    .dataframe thead th {\n",
       "        text-align: right;\n",
       "    }\n",
       "</style>\n",
       "<table border=\"1\" class=\"dataframe\">\n",
       "  <thead>\n",
       "    <tr style=\"text-align: right;\">\n",
       "      <th></th>\n",
       "      <th>Car_Name</th>\n",
       "      <th>Year</th>\n",
       "      <th>Selling_Price</th>\n",
       "      <th>Present_Price</th>\n",
       "      <th>Kms_Driven</th>\n",
       "      <th>Fuel_Type</th>\n",
       "      <th>Seller_Type</th>\n",
       "      <th>Transmission</th>\n",
       "      <th>Owner</th>\n",
       "    </tr>\n",
       "  </thead>\n",
       "  <tbody>\n",
       "    <tr>\n",
       "      <th>0</th>\n",
       "      <td>ritz</td>\n",
       "      <td>2014</td>\n",
       "      <td>3.35</td>\n",
       "      <td>5.59</td>\n",
       "      <td>27000</td>\n",
       "      <td>Petrol</td>\n",
       "      <td>Dealer</td>\n",
       "      <td>Manual</td>\n",
       "      <td>0</td>\n",
       "    </tr>\n",
       "    <tr>\n",
       "      <th>1</th>\n",
       "      <td>sx4</td>\n",
       "      <td>2013</td>\n",
       "      <td>4.75</td>\n",
       "      <td>9.54</td>\n",
       "      <td>43000</td>\n",
       "      <td>Diesel</td>\n",
       "      <td>Dealer</td>\n",
       "      <td>Manual</td>\n",
       "      <td>0</td>\n",
       "    </tr>\n",
       "    <tr>\n",
       "      <th>2</th>\n",
       "      <td>ciaz</td>\n",
       "      <td>2017</td>\n",
       "      <td>7.25</td>\n",
       "      <td>9.85</td>\n",
       "      <td>6900</td>\n",
       "      <td>Petrol</td>\n",
       "      <td>Dealer</td>\n",
       "      <td>Manual</td>\n",
       "      <td>0</td>\n",
       "    </tr>\n",
       "  </tbody>\n",
       "</table>\n",
       "</div>"
      ],
      "text/plain": [
       "  Car_Name  Year  Selling_Price  Present_Price  Kms_Driven Fuel_Type  \\\n",
       "0     ritz  2014           3.35           5.59       27000    Petrol   \n",
       "1      sx4  2013           4.75           9.54       43000    Diesel   \n",
       "2     ciaz  2017           7.25           9.85        6900    Petrol   \n",
       "\n",
       "  Seller_Type Transmission  Owner  \n",
       "0      Dealer       Manual      0  \n",
       "1      Dealer       Manual      0  \n",
       "2      Dealer       Manual      0  "
      ]
     },
     "execution_count": 33,
     "metadata": {},
     "output_type": "execute_result"
    }
   ],
   "source": [
    "data = pd.read_csv(\"cardata.csv\")\n",
    "data.head(3)"
   ]
  },
  {
   "cell_type": "code",
   "execution_count": 34,
   "id": "b1ff2b87-ae31-4382-901a-084954ac1510",
   "metadata": {},
   "outputs": [],
   "source": [
    "data.drop_duplicates(inplace=True)"
   ]
  },
  {
   "cell_type": "code",
   "execution_count": 35,
   "id": "01a8787c-287c-4450-a215-25475759ddbd",
   "metadata": {},
   "outputs": [],
   "source": [
    "from sklearn.preprocessing import LabelEncoder\n",
    "\n",
    "le = LabelEncoder()\n",
    "data[\"Car_Name\"] = le.fit_transform(data[\"Car_Name\"])\n",
    "data[\"Fuel_Type\"] = le.fit_transform(data[\"Fuel_Type\"])\n",
    "data[\"Seller_Type\"] = le.fit_transform(data[\"Seller_Type\"])\n",
    "data[\"Transmission\"] = le.fit_transform(data[\"Transmission\"])"
   ]
  },
  {
   "cell_type": "code",
   "execution_count": 36,
   "id": "6e64023f-638e-4f7f-b8fb-43780755dbb9",
   "metadata": {},
   "outputs": [
    {
     "data": {
      "text/html": [
       "<div>\n",
       "<style scoped>\n",
       "    .dataframe tbody tr th:only-of-type {\n",
       "        vertical-align: middle;\n",
       "    }\n",
       "\n",
       "    .dataframe tbody tr th {\n",
       "        vertical-align: top;\n",
       "    }\n",
       "\n",
       "    .dataframe thead th {\n",
       "        text-align: right;\n",
       "    }\n",
       "</style>\n",
       "<table border=\"1\" class=\"dataframe\">\n",
       "  <thead>\n",
       "    <tr style=\"text-align: right;\">\n",
       "      <th></th>\n",
       "      <th>Car_Name</th>\n",
       "      <th>Year</th>\n",
       "      <th>Selling_Price</th>\n",
       "      <th>Present_Price</th>\n",
       "      <th>Kms_Driven</th>\n",
       "      <th>Fuel_Type</th>\n",
       "      <th>Seller_Type</th>\n",
       "      <th>Transmission</th>\n",
       "      <th>Owner</th>\n",
       "    </tr>\n",
       "  </thead>\n",
       "  <tbody>\n",
       "    <tr>\n",
       "      <th>0</th>\n",
       "      <td>90</td>\n",
       "      <td>2014</td>\n",
       "      <td>3.35</td>\n",
       "      <td>5.59</td>\n",
       "      <td>27000</td>\n",
       "      <td>2</td>\n",
       "      <td>0</td>\n",
       "      <td>1</td>\n",
       "      <td>0</td>\n",
       "    </tr>\n",
       "    <tr>\n",
       "      <th>1</th>\n",
       "      <td>93</td>\n",
       "      <td>2013</td>\n",
       "      <td>4.75</td>\n",
       "      <td>9.54</td>\n",
       "      <td>43000</td>\n",
       "      <td>1</td>\n",
       "      <td>0</td>\n",
       "      <td>1</td>\n",
       "      <td>0</td>\n",
       "    </tr>\n",
       "    <tr>\n",
       "      <th>2</th>\n",
       "      <td>68</td>\n",
       "      <td>2017</td>\n",
       "      <td>7.25</td>\n",
       "      <td>9.85</td>\n",
       "      <td>6900</td>\n",
       "      <td>2</td>\n",
       "      <td>0</td>\n",
       "      <td>1</td>\n",
       "      <td>0</td>\n",
       "    </tr>\n",
       "  </tbody>\n",
       "</table>\n",
       "</div>"
      ],
      "text/plain": [
       "   Car_Name  Year  Selling_Price  Present_Price  Kms_Driven  Fuel_Type  \\\n",
       "0        90  2014           3.35           5.59       27000          2   \n",
       "1        93  2013           4.75           9.54       43000          1   \n",
       "2        68  2017           7.25           9.85        6900          2   \n",
       "\n",
       "   Seller_Type  Transmission  Owner  \n",
       "0            0             1      0  \n",
       "1            0             1      0  \n",
       "2            0             1      0  "
      ]
     },
     "execution_count": 36,
     "metadata": {},
     "output_type": "execute_result"
    }
   ],
   "source": [
    "data.head(3)"
   ]
  },
  {
   "cell_type": "code",
   "execution_count": 37,
   "id": "589d481f-5f14-4c87-9658-2c63805f47bf",
   "metadata": {},
   "outputs": [
    {
     "data": {
      "image/png": "[encoded data removed]",
      "text/plain": [
       "<Figure size 640x480 with 2 Axes>"
      ]
     },
     "metadata": {},
     "output_type": "display_data"
    }
   ],
   "source": [
    "sns.heatmap(data=data.corr(), annot=True)\n",
    "plt.show()"
   ]
  },
  {
   "cell_type": "code",
   "execution_count": 38,
   "id": "4ff26d2e-7fb1-4270-9856-f2c2be51d183",
   "metadata": {},
   "outputs": [],
   "source": [
    "x = data.drop(columns=\"Selling_Price\")\n",
    "y = data[\"Selling_Price\"]"
   ]
  },
  {
   "cell_type": "code",
   "execution_count": 39,
   "id": "539f8a4c-b3af-4608-a23c-289cbb32293b",
   "metadata": {},
   "outputs": [],
   "source": [
    "from sklearn.preprocessing import StandardScaler\n",
    "sc = StandardScaler()\n",
    "x = pd.DataFrame(sc.fit_transform(x), columns=x.columns)"
   ]
  },
  {
   "cell_type": "code",
   "execution_count": 40,
   "id": "4bbfc477-1c32-4391-995c-f97d1629e9b4",
   "metadata": {},
   "outputs": [],
   "source": [
    "from sklearn.model_selection import train_test_split\n",
    "\n",
    "x_train,x_test,y_train,y_test = train_test_split(x,y, test_size=0.2, random_state=52)"
   ]
  },
  {
   "cell_type": "markdown",
   "id": "9f88852f-56f5-45f2-b71b-b82f67929b42",
   "metadata": {},
   "source": [
    "# Model Apply"
   ]
  },
  {
   "cell_type": "code",
   "execution_count": 41,
   "id": "743b2213-c595-40eb-89c8-539d505a2287",
   "metadata": {},
   "outputs": [],
   "source": [
    "from sklearn.linear_model import LinearRegression, Lasso, Ridge, ElasticNet\n",
    "from sklearn.tree import DecisionTreeRegressor\n",
    "from sklearn.svm import SVR\n",
    "from sklearn.neighbors import KNeighborsRegressor\n",
    "from sklearn.ensemble import RandomForestRegressor, BaggingRegressor, VotingRegressor"
   ]
  },
  {
   "cell_type": "code",
   "execution_count": 42,
   "id": "d44951b6-1ee2-498e-9ed3-f7fdd1546748",
   "metadata": {},
   "outputs": [],
   "source": [
    "# lr = LinearRegression()\n",
    "# lr.fit(x_train, y_train)\n",
    "# lr.score(x_test, y_test)*100 , lr.score(x_train, y_train)*100"
   ]
  },
  {
   "cell_type": "code",
   "execution_count": 43,
   "id": "af4174a5-4149-492a-b65d-163603823665",
   "metadata": {},
   "outputs": [],
   "source": [
    "# ls = Lasso(alpha=0.02)\n",
    "# ls.fit(x_train, y_train)\n",
    "# ls.score(x_test, y_test)*100 , ls.score(x_train, y_train)*100"
   ]
  },
  {
   "cell_type": "code",
   "execution_count": 44,
   "id": "9860ea55-897e-4cbb-8af8-5f509e3cc14a",
   "metadata": {},
   "outputs": [],
   "source": [
    "# ri = Ridge(alpha=20)\n",
    "# ri.fit(x_train, y_train)\n",
    "# ri.score(x_test, y_test)*100 , ri.score(x_train, y_train)*100"
   ]
  },
  {
   "cell_type": "code",
   "execution_count": 45,
   "id": "b438b471-b7e1-4b75-a0ad-06e5e040d1c3",
   "metadata": {},
   "outputs": [],
   "source": [
    "# el = ElasticNet(alpha=0.05)\n",
    "# el.fit(x_train, y_train)\n",
    "# el.score(x_test, y_test)*100 , el.score(x_train, y_train)*100"
   ]
  },
  {
   "cell_type": "code",
   "execution_count": 46,
   "id": "dc3bbd80-9760-4d35-8b03-5a3507ff8065",
   "metadata": {},
   "outputs": [],
   "source": [
    "# dr = DecisionTreeRegressor(max_depth=5)\n",
    "# dr.fit(x_train, y_train)\n",
    "# dr.score(x_test, y_test)*100 , dr.score(x_train, y_train)*100"
   ]
  },
  {
   "cell_type": "code",
   "execution_count": 47,
   "id": "dcaf4ba7-9c4a-44aa-a615-fa8261363a78",
   "metadata": {},
   "outputs": [],
   "source": [
    "# for i in range(1,30):\n",
    "#     dr = DecisionTreeRegressor(max_depth=i)\n",
    "#     dr.fit(x_train, y_train)\n",
    "#     print(i,dr.score(x_test, y_test)*100 , dr.score(x_train, y_train)*100)"
   ]
  },
  {
   "cell_type": "code",
   "execution_count": 48,
   "id": "81cffadf-12bd-4a84-a9f2-f5df7340cb90",
   "metadata": {},
   "outputs": [],
   "source": [
    "# sv = SVR(kernel='linear')\n",
    "# sv.fit(x_train, y_train)\n",
    "# sv.score(x_test, y_test)*100 , sv.score(x_train, y_train)*100"
   ]
  },
  {
   "cell_type": "code",
   "execution_count": 49,
   "id": "e6ced491-8a7c-490f-a08d-80215a279b49",
   "metadata": {},
   "outputs": [],
   "source": [
    "# knn = KNeighborsRegressor(n_neighbors=10)\n",
    "# knn.fit(x_train, y_train)\n",
    "# knn.score(x_test, y_test)*100 , knn.score(x_train, y_train)*100"
   ]
  },
  {
   "cell_type": "code",
   "execution_count": 50,
   "id": "3599d511-d7ee-41e9-8c1a-8e6e3af5a028",
   "metadata": {},
   "outputs": [
    {
     "data": {
      "text/plain": [
       "(96.27157616620056, 98.5366163163056)"
      ]
     },
     "execution_count": 50,
     "metadata": {},
     "output_type": "execute_result"
    }
   ],
   "source": [
    "rf = RandomForestRegressor(n_estimators=6)\n",
    "rf.fit(x_train, y_train)\n",
    "rf.score(x_test, y_test)*100 , rf.score(x_train, y_train)*100"
   ]
  },
  {
   "cell_type": "code",
   "execution_count": 51,
   "id": "18bc69bf-3842-4b06-b38e-a0a93cd15357",
   "metadata": {},
   "outputs": [
    {
     "data": {
      "text/plain": [
       "(0.9193376851851853, 0.5821666666666666)"
      ]
     },
     "execution_count": 51,
     "metadata": {},
     "output_type": "execute_result"
    }
   ],
   "source": [
    "from sklearn.metrics import mean_squared_error, mean_absolute_error\n",
    "\n",
    "mean_squared_error(y_test, rf.predict(x_test)) , mean_absolute_error(y_test, rf.predict(x_test))"
   ]
  },
  {
   "cell_type": "code",
   "execution_count": 52,
   "id": "7ab6bf76-9142-43ce-ae91-42493af87244",
   "metadata": {},
   "outputs": [],
   "source": [
    "# for i in range(1,30):\n",
    "#     rf1 = RandomForestRegressor(n_estimators=i)\n",
    "#     rf1.fit(x_train, y_train)\n",
    "#     print(i,rf1.score(x_test, y_test)*100 , rf1.score(x_train, y_train)*100)"
   ]
  },
  {
   "cell_type": "code",
   "execution_count": 53,
   "id": "98056647-d7a6-47ae-81a1-78fd05d9cd03",
   "metadata": {},
   "outputs": [
    {
     "data": {
      "text/plain": [
       "92      3.51\n",
       "0       3.35\n",
       "109     1.20\n",
       "6       6.75\n",
       "63     23.50\n",
       "Name: Selling_Price, dtype: float64"
      ]
     },
     "execution_count": 53,
     "metadata": {},
     "output_type": "execute_result"
    }
   ],
   "source": [
    "# Real Value...\n",
    "\n",
    "y_test.head()"
   ]
  },
  {
   "cell_type": "code",
   "execution_count": 54,
   "id": "65429bc7-1411-4d26-bd90-fdfdcc8f8878",
   "metadata": {},
   "outputs": [
    {
     "name": "stderr",
     "output_type": "stream",
     "text": [
      "C:\\ProgramData\\anaconda3\\Lib\\site-packages\\sklearn\\base.py:493: UserWarning: X does not have valid feature names, but RandomForestRegressor was fitted with feature names\n",
      "  warnings.warn(\n"
     ]
    },
    {
     "data": {
      "text/plain": [
       "array([4.24166667])"
      ]
     },
     "execution_count": 54,
     "metadata": {},
     "output_type": "execute_result"
    }
   ],
   "source": [
    "# Predicted Value...\n",
    "\n",
    "rf.predict([[0.919985,-2.979020,0.720048,0.977750,0.491847,-0.741096,0.387298,-0.175101]])"
   ]
  },
  {
   "cell_type": "code",
   "execution_count": 55,
   "id": "a9dcfb59-b922-4b5b-8fc8-cf336bb70d2a",
   "metadata": {},
   "outputs": [
    {
     "data": {
      "text/html": [
       "<div>\n",
       "<style scoped>\n",
       "    .dataframe tbody tr th:only-of-type {\n",
       "        vertical-align: middle;\n",
       "    }\n",
       "\n",
       "    .dataframe tbody tr th {\n",
       "        vertical-align: top;\n",
       "    }\n",
       "\n",
       "    .dataframe thead th {\n",
       "        text-align: right;\n",
       "    }\n",
       "</style>\n",
       "<table border=\"1\" class=\"dataframe\">\n",
       "  <thead>\n",
       "    <tr style=\"text-align: right;\">\n",
       "      <th></th>\n",
       "      <th>Car_Name</th>\n",
       "      <th>Year</th>\n",
       "      <th>Present_Price</th>\n",
       "      <th>Kms_Driven</th>\n",
       "      <th>Fuel_Type</th>\n",
       "      <th>Seller_Type</th>\n",
       "      <th>Transmission</th>\n",
       "      <th>Owner</th>\n",
       "    </tr>\n",
       "  </thead>\n",
       "  <tbody>\n",
       "    <tr>\n",
       "      <th>91</th>\n",
       "      <td>0.919985</td>\n",
       "      <td>-2.979020</td>\n",
       "      <td>0.720048</td>\n",
       "      <td>0.977750</td>\n",
       "      <td>0.491847</td>\n",
       "      <td>-0.741096</td>\n",
       "      <td>0.387298</td>\n",
       "      <td>-0.175101</td>\n",
       "    </tr>\n",
       "    <tr>\n",
       "      <th>0</th>\n",
       "      <td>1.076344</td>\n",
       "      <td>0.132992</td>\n",
       "      <td>-0.228097</td>\n",
       "      <td>-0.254603</td>\n",
       "      <td>0.491847</td>\n",
       "      <td>-0.741096</td>\n",
       "      <td>0.387298</td>\n",
       "      <td>-0.175101</td>\n",
       "    </tr>\n",
       "    <tr>\n",
       "      <th>107</th>\n",
       "      <td>-0.643610</td>\n",
       "      <td>1.170329</td>\n",
       "      <td>-0.709768</td>\n",
       "      <td>-0.665387</td>\n",
       "      <td>0.491847</td>\n",
       "      <td>1.349353</td>\n",
       "      <td>0.387298</td>\n",
       "      <td>-0.175101</td>\n",
       "    </tr>\n",
       "    <tr>\n",
       "      <th>6</th>\n",
       "      <td>0.216367</td>\n",
       "      <td>0.478771</td>\n",
       "      <td>0.067687</td>\n",
       "      <td>-0.465233</td>\n",
       "      <td>0.491847</td>\n",
       "      <td>-0.741096</td>\n",
       "      <td>0.387298</td>\n",
       "      <td>-0.175101</td>\n",
       "    </tr>\n",
       "    <tr>\n",
       "      <th>62</th>\n",
       "      <td>0.724535</td>\n",
       "      <td>0.478771</td>\n",
       "      <td>3.322477</td>\n",
       "      <td>0.258878</td>\n",
       "      <td>-1.880124</td>\n",
       "      <td>-0.741096</td>\n",
       "      <td>-2.581989</td>\n",
       "      <td>-0.175101</td>\n",
       "    </tr>\n",
       "  </tbody>\n",
       "</table>\n",
       "</div>"
      ],
      "text/plain": [
       "     Car_Name      Year  Present_Price  Kms_Driven  Fuel_Type  Seller_Type  \\\n",
       "91   0.919985 -2.979020       0.720048    0.977750   0.491847    -0.741096   \n",
       "0    1.076344  0.132992      -0.228097   -0.254603   0.491847    -0.741096   \n",
       "107 -0.643610  1.170329      -0.709768   -0.665387   0.491847     1.349353   \n",
       "6    0.216367  0.478771       0.067687   -0.465233   0.491847    -0.741096   \n",
       "62   0.724535  0.478771       3.322477    0.258878  -1.880124    -0.741096   \n",
       "\n",
       "     Transmission     Owner  \n",
       "91       0.387298 -0.175101  \n",
       "0        0.387298 -0.175101  \n",
       "107      0.387298 -0.175101  \n",
       "6        0.387298 -0.175101  \n",
       "62      -2.581989 -0.175101  "
      ]
     },
     "execution_count": 55,
     "metadata": {},
     "output_type": "execute_result"
    }
   ],
   "source": [
    "x_test.head()"
   ]
  },
  {
   "cell_type": "code",
   "execution_count": 56,
   "id": "7f14ef5b-0e80-4cca-b4fb-9d047bb2d0b1",
   "metadata": {},
   "outputs": [
    {
     "data": {
      "text/html": [
       "<div>\n",
       "<style scoped>\n",
       "    .dataframe tbody tr th:only-of-type {\n",
       "        vertical-align: middle;\n",
       "    }\n",
       "\n",
       "    .dataframe tbody tr th {\n",
       "        vertical-align: top;\n",
       "    }\n",
       "\n",
       "    .dataframe thead th {\n",
       "        text-align: right;\n",
       "    }\n",
       "</style>\n",
       "<table border=\"1\" class=\"dataframe\">\n",
       "  <thead>\n",
       "    <tr style=\"text-align: right;\">\n",
       "      <th></th>\n",
       "      <th>Car_Name</th>\n",
       "      <th>Year</th>\n",
       "      <th>Present_Price</th>\n",
       "      <th>Kms_Driven</th>\n",
       "      <th>Fuel_Type</th>\n",
       "      <th>Seller_Type</th>\n",
       "      <th>Transmission</th>\n",
       "      <th>Owner</th>\n",
       "    </tr>\n",
       "  </thead>\n",
       "  <tbody>\n",
       "    <tr>\n",
       "      <th>0</th>\n",
       "      <td>ritz</td>\n",
       "      <td>2014</td>\n",
       "      <td>5.59</td>\n",
       "      <td>27000</td>\n",
       "      <td>Petrol</td>\n",
       "      <td>Dealer</td>\n",
       "      <td>Manual</td>\n",
       "      <td>0</td>\n",
       "    </tr>\n",
       "  </tbody>\n",
       "</table>\n",
       "</div>"
      ],
      "text/plain": [
       "  Car_Name  Year  Present_Price  Kms_Driven Fuel_Type Seller_Type  \\\n",
       "0     ritz  2014           5.59       27000    Petrol      Dealer   \n",
       "\n",
       "  Transmission  Owner  \n",
       "0       Manual      0  "
      ]
     },
     "execution_count": 56,
     "metadata": {},
     "output_type": "execute_result"
    }
   ],
   "source": [
    "new_data = pd.DataFrame([[\"ritz\",2014,5.59,27000,\"Petrol\",\"Dealer\",\"Manual\",0]], columns=x_train.columns)\n",
    "new_data"
   ]
  },
  {
   "cell_type": "code",
   "execution_count": 57,
   "id": "f7bccb16-5177-49ab-9e5c-89635037220c",
   "metadata": {},
   "outputs": [],
   "source": [
    "from sklearn.preprocessing import LabelEncoder\n",
    "\n",
    "le1 = LabelEncoder()\n",
    "new_data[\"Car_Name\"] = le1.fit_transform(new_data[\"Car_Name\"])\n",
    "new_data[\"Fuel_Type\"] = le1.fit_transform(new_data[\"Fuel_Type\"])\n",
    "new_data[\"Seller_Type\"] = le1.fit_transform(new_data[\"Seller_Type\"])\n",
    "new_data[\"Transmission\"] = le1.fit_transform(new_data[\"Transmission\"])"
   ]
  },
  {
   "cell_type": "code",
   "execution_count": 58,
   "id": "483843ed-7490-46fe-bbae-50b8e750f3a6",
   "metadata": {},
   "outputs": [
    {
     "data": {
      "text/html": [
       "<div>\n",
       "<style scoped>\n",
       "    .dataframe tbody tr th:only-of-type {\n",
       "        vertical-align: middle;\n",
       "    }\n",
       "\n",
       "    .dataframe tbody tr th {\n",
       "        vertical-align: top;\n",
       "    }\n",
       "\n",
       "    .dataframe thead th {\n",
       "        text-align: right;\n",
       "    }\n",
       "</style>\n",
       "<table border=\"1\" class=\"dataframe\">\n",
       "  <thead>\n",
       "    <tr style=\"text-align: right;\">\n",
       "      <th></th>\n",
       "      <th>Car_Name</th>\n",
       "      <th>Year</th>\n",
       "      <th>Present_Price</th>\n",
       "      <th>Kms_Driven</th>\n",
       "      <th>Fuel_Type</th>\n",
       "      <th>Seller_Type</th>\n",
       "      <th>Transmission</th>\n",
       "      <th>Owner</th>\n",
       "    </tr>\n",
       "  </thead>\n",
       "  <tbody>\n",
       "    <tr>\n",
       "      <th>0</th>\n",
       "      <td>0</td>\n",
       "      <td>2014</td>\n",
       "      <td>5.59</td>\n",
       "      <td>27000</td>\n",
       "      <td>0</td>\n",
       "      <td>0</td>\n",
       "      <td>0</td>\n",
       "      <td>0</td>\n",
       "    </tr>\n",
       "  </tbody>\n",
       "</table>\n",
       "</div>"
      ],
      "text/plain": [
       "   Car_Name  Year  Present_Price  Kms_Driven  Fuel_Type  Seller_Type  \\\n",
       "0         0  2014           5.59       27000          0            0   \n",
       "\n",
       "   Transmission  Owner  \n",
       "0             0      0  "
      ]
     },
     "execution_count": 58,
     "metadata": {},
     "output_type": "execute_result"
    }
   ],
   "source": [
    "new_data"
   ]
  },
  {
   "cell_type": "code",
   "execution_count": 59,
   "id": "1a198b1d-020a-4aa4-9991-bef733ab3d48",
   "metadata": {},
   "outputs": [],
   "source": [
    "new_data = pd.DataFrame(sc.transform(new_data),columns=new_data.columns)"
   ]
  },
  {
   "cell_type": "code",
   "execution_count": 60,
   "id": "8140398d-d524-45cf-9667-4c1109e4ee7c",
   "metadata": {},
   "outputs": [
    {
     "data": {
      "text/plain": [
       "array([4.1])"
      ]
     },
     "execution_count": 60,
     "metadata": {},
     "output_type": "execute_result"
    }
   ],
   "source": [
    "rf.predict(new_data)"
   ]
  }
 ],
 "metadata": {
  "kernelspec": {
   "display_name": "Python 3 (ipykernel)",
   "language": "python",
   "name": "python3"
  },
  "language_info": {
   "codemirror_mode": {
    "name": "ipython",
    "version": 3
   },
   "file_extension": ".py",
   "mimetype": "text/x-python",
   "name": "python",
   "nbconvert_exporter": "python",
   "pygments_lexer": "ipython3",
   "version": "3.12.4"
  }
 },
 "nbformat": 4,
 "nbformat_minor": 5
}
