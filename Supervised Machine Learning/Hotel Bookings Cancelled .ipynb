{
 "cells": [
  {
   "cell_type": "markdown",
   "id": "bc76904e-ec9f-4a3f-8ca3-ca0bca49f111",
   "metadata": {},
   "source": [
    "# Load Dataset"
   ]
  },
  {
   "cell_type": "code",
   "execution_count": 1,
   "id": "c7bfc2a6-0383-412a-93e7-4f3d0b9ec549",
   "metadata": {},
   "outputs": [
    {
     "data": {
      "text/html": [
       "<div>\n",
       "<style scoped>\n",
       "    .dataframe tbody tr th:only-of-type {\n",
       "        vertical-align: middle;\n",
       "    }\n",
       "\n",
       "    .dataframe tbody tr th {\n",
       "        vertical-align: top;\n",
       "    }\n",
       "\n",
       "    .dataframe thead th {\n",
       "        text-align: right;\n",
       "    }\n",
       "</style>\n",
       "<table border=\"1\" class=\"dataframe\">\n",
       "  <thead>\n",
       "    <tr style=\"text-align: right;\">\n",
       "      <th></th>\n",
       "      <th>hotel</th>\n",
       "      <th>is_canceled</th>\n",
       "      <th>arrival_date_year</th>\n",
       "      <th>arrival_date_month</th>\n",
       "      <th>adults</th>\n",
       "      <th>children</th>\n",
       "      <th>babies</th>\n",
       "      <th>country</th>\n",
       "      <th>reserved_room_type</th>\n",
       "      <th>assigned_room_type</th>\n",
       "      <th>reservation_status</th>\n",
       "      <th>reservation_status_date</th>\n",
       "      <th>room_status</th>\n",
       "      <th>guest_type</th>\n",
       "    </tr>\n",
       "  </thead>\n",
       "  <tbody>\n",
       "    <tr>\n",
       "      <th>0</th>\n",
       "      <td>Resort Hotel</td>\n",
       "      <td>0</td>\n",
       "      <td>2015</td>\n",
       "      <td>July</td>\n",
       "      <td>2</td>\n",
       "      <td>0.0</td>\n",
       "      <td>0</td>\n",
       "      <td>PRT</td>\n",
       "      <td>C</td>\n",
       "      <td>C</td>\n",
       "      <td>Check-Out</td>\n",
       "      <td>7/1/2015</td>\n",
       "      <td>Desired</td>\n",
       "      <td>Couples</td>\n",
       "    </tr>\n",
       "    <tr>\n",
       "      <th>1</th>\n",
       "      <td>Resort Hotel</td>\n",
       "      <td>0</td>\n",
       "      <td>2015</td>\n",
       "      <td>July</td>\n",
       "      <td>2</td>\n",
       "      <td>0.0</td>\n",
       "      <td>0</td>\n",
       "      <td>PRT</td>\n",
       "      <td>C</td>\n",
       "      <td>C</td>\n",
       "      <td>Check-Out</td>\n",
       "      <td>7/1/2015</td>\n",
       "      <td>Desired</td>\n",
       "      <td>Couples</td>\n",
       "    </tr>\n",
       "    <tr>\n",
       "      <th>2</th>\n",
       "      <td>Resort Hotel</td>\n",
       "      <td>0</td>\n",
       "      <td>2015</td>\n",
       "      <td>July</td>\n",
       "      <td>1</td>\n",
       "      <td>0.0</td>\n",
       "      <td>0</td>\n",
       "      <td>GBR</td>\n",
       "      <td>A</td>\n",
       "      <td>C</td>\n",
       "      <td>Check-Out</td>\n",
       "      <td>7/2/2015</td>\n",
       "      <td>Un-Desired</td>\n",
       "      <td>Single</td>\n",
       "    </tr>\n",
       "  </tbody>\n",
       "</table>\n",
       "</div>"
      ],
      "text/plain": [
       "          hotel  is_canceled  arrival_date_year arrival_date_month  adults  \\\n",
       "0  Resort Hotel            0               2015               July       2   \n",
       "1  Resort Hotel            0               2015               July       2   \n",
       "2  Resort Hotel            0               2015               July       1   \n",
       "\n",
       "   children  babies country reserved_room_type assigned_room_type  \\\n",
       "0       0.0       0     PRT                  C                  C   \n",
       "1       0.0       0     PRT                  C                  C   \n",
       "2       0.0       0     GBR                  A                  C   \n",
       "\n",
       "  reservation_status reservation_status_date room_status guest_type  \n",
       "0          Check-Out                7/1/2015     Desired    Couples  \n",
       "1          Check-Out                7/1/2015     Desired    Couples  \n",
       "2          Check-Out                7/2/2015  Un-Desired     Single  "
      ]
     },
     "execution_count": 1,
     "metadata": {},
     "output_type": "execute_result"
    }
   ],
   "source": [
    "import pandas as pd\n",
    "\n",
    "data = pd.read_csv(r\"C:\\Users\\arman\\Desktop\\Hotel.csv\")\n",
    "data.head(3)"
   ]
  },
  {
   "cell_type": "markdown",
   "id": "bf089d41-752c-45a0-9565-9653a1a12175",
   "metadata": {},
   "source": [
    "# Remove Columns..."
   ]
  },
  {
   "cell_type": "code",
   "execution_count": 2,
   "id": "4904c6da-a52c-49ba-9baa-dd11393ffc4c",
   "metadata": {},
   "outputs": [
    {
     "data": {
      "text/plain": [
       "(119390, 14)"
      ]
     },
     "execution_count": 2,
     "metadata": {},
     "output_type": "execute_result"
    }
   ],
   "source": [
    "data.shape"
   ]
  },
  {
   "cell_type": "code",
   "execution_count": 3,
   "id": "90d691f6-5ac9-4c53-a77d-a73fc015879b",
   "metadata": {},
   "outputs": [
    {
     "data": {
      "text/plain": [
       "Index(['hotel', 'is_canceled', 'arrival_date_year', 'arrival_date_month',\n",
       "       'adults', 'children', 'babies', 'country', 'reserved_room_type',\n",
       "       'assigned_room_type', 'reservation_status', 'reservation_status_date',\n",
       "       'room_status', 'guest_type'],\n",
       "      dtype='object')"
      ]
     },
     "execution_count": 3,
     "metadata": {},
     "output_type": "execute_result"
    }
   ],
   "source": [
    "data.keys()"
   ]
  },
  {
   "cell_type": "code",
   "execution_count": 4,
   "id": "0465006e-5b51-46d8-aea4-4492cafae5af",
   "metadata": {},
   "outputs": [
    {
     "data": {
      "text/html": [
       "<div>\n",
       "<style scoped>\n",
       "    .dataframe tbody tr th:only-of-type {\n",
       "        vertical-align: middle;\n",
       "    }\n",
       "\n",
       "    .dataframe tbody tr th {\n",
       "        vertical-align: top;\n",
       "    }\n",
       "\n",
       "    .dataframe thead th {\n",
       "        text-align: right;\n",
       "    }\n",
       "</style>\n",
       "<table border=\"1\" class=\"dataframe\">\n",
       "  <thead>\n",
       "    <tr style=\"text-align: right;\">\n",
       "      <th></th>\n",
       "      <th>hotel</th>\n",
       "      <th>is_canceled</th>\n",
       "      <th>arrival_date_year</th>\n",
       "      <th>arrival_date_month</th>\n",
       "      <th>country</th>\n",
       "      <th>reservation_status</th>\n",
       "      <th>room_status</th>\n",
       "      <th>guest_type</th>\n",
       "    </tr>\n",
       "  </thead>\n",
       "  <tbody>\n",
       "    <tr>\n",
       "      <th>0</th>\n",
       "      <td>Resort Hotel</td>\n",
       "      <td>0</td>\n",
       "      <td>2015</td>\n",
       "      <td>July</td>\n",
       "      <td>PRT</td>\n",
       "      <td>Check-Out</td>\n",
       "      <td>Desired</td>\n",
       "      <td>Couples</td>\n",
       "    </tr>\n",
       "    <tr>\n",
       "      <th>1</th>\n",
       "      <td>Resort Hotel</td>\n",
       "      <td>0</td>\n",
       "      <td>2015</td>\n",
       "      <td>July</td>\n",
       "      <td>PRT</td>\n",
       "      <td>Check-Out</td>\n",
       "      <td>Desired</td>\n",
       "      <td>Couples</td>\n",
       "    </tr>\n",
       "    <tr>\n",
       "      <th>2</th>\n",
       "      <td>Resort Hotel</td>\n",
       "      <td>0</td>\n",
       "      <td>2015</td>\n",
       "      <td>July</td>\n",
       "      <td>GBR</td>\n",
       "      <td>Check-Out</td>\n",
       "      <td>Un-Desired</td>\n",
       "      <td>Single</td>\n",
       "    </tr>\n",
       "    <tr>\n",
       "      <th>3</th>\n",
       "      <td>Resort Hotel</td>\n",
       "      <td>0</td>\n",
       "      <td>2015</td>\n",
       "      <td>July</td>\n",
       "      <td>GBR</td>\n",
       "      <td>Check-Out</td>\n",
       "      <td>Desired</td>\n",
       "      <td>Single</td>\n",
       "    </tr>\n",
       "  </tbody>\n",
       "</table>\n",
       "</div>"
      ],
      "text/plain": [
       "          hotel  is_canceled  arrival_date_year arrival_date_month country  \\\n",
       "0  Resort Hotel            0               2015               July     PRT   \n",
       "1  Resort Hotel            0               2015               July     PRT   \n",
       "2  Resort Hotel            0               2015               July     GBR   \n",
       "3  Resort Hotel            0               2015               July     GBR   \n",
       "\n",
       "  reservation_status room_status guest_type  \n",
       "0          Check-Out     Desired    Couples  \n",
       "1          Check-Out     Desired    Couples  \n",
       "2          Check-Out  Un-Desired     Single  \n",
       "3          Check-Out     Desired     Single  "
      ]
     },
     "execution_count": 4,
     "metadata": {},
     "output_type": "execute_result"
    }
   ],
   "source": [
    "data = data.drop(columns=['adults','children','babies','reserved_room_type','assigned_room_type','reservation_status_date'])\n",
    "data.head(4)"
   ]
  },
  {
   "cell_type": "markdown",
   "id": "c7ffc64b-2b08-4d0b-9168-4c3664b060b1",
   "metadata": {},
   "source": [
    "# Fill NULL Values..."
   ]
  },
  {
   "cell_type": "code",
   "execution_count": 5,
   "id": "b902ea54-80a5-4561-aa73-fc6ab0cf066c",
   "metadata": {},
   "outputs": [
    {
     "name": "stdout",
     "output_type": "stream",
     "text": [
      "<class 'pandas.core.frame.DataFrame'>\n",
      "RangeIndex: 119390 entries, 0 to 119389\n",
      "Data columns (total 8 columns):\n",
      " #   Column              Non-Null Count   Dtype \n",
      "---  ------              --------------   ----- \n",
      " 0   hotel               119390 non-null  object\n",
      " 1   is_canceled         119390 non-null  int64 \n",
      " 2   arrival_date_year   119390 non-null  int64 \n",
      " 3   arrival_date_month  119390 non-null  object\n",
      " 4   country             118902 non-null  object\n",
      " 5   reservation_status  119390 non-null  object\n",
      " 6   room_status         119390 non-null  object\n",
      " 7   guest_type          119390 non-null  object\n",
      "dtypes: int64(2), object(6)\n",
      "memory usage: 7.3+ MB\n"
     ]
    }
   ],
   "source": [
    "data.info()"
   ]
  },
  {
   "cell_type": "code",
   "execution_count": 6,
   "id": "f7baa850-1d0d-4193-836e-fcca56afcc8d",
   "metadata": {},
   "outputs": [
    {
     "name": "stderr",
     "output_type": "stream",
     "text": [
      "C:\\Users\\arman\\AppData\\Local\\Temp\\ipykernel_3264\\35958573.py:1: FutureWarning: A value is trying to be set on a copy of a DataFrame or Series through chained assignment using an inplace method.\n",
      "The behavior will change in pandas 3.0. This inplace method will never work because the intermediate object on which we are setting values always behaves as a copy.\n",
      "\n",
      "For example, when doing 'df[col].method(value, inplace=True)', try using 'df.method({col: value}, inplace=True)' or df[col] = df[col].method(value) instead, to perform the operation inplace on the original object.\n",
      "\n",
      "\n",
      "  data[\"country\"].fillna(data[\"country\"].mode()[0], inplace=True)\n"
     ]
    }
   ],
   "source": [
    "data[\"country\"].fillna(data[\"country\"].mode()[0], inplace=True)"
   ]
  },
  {
   "cell_type": "code",
   "execution_count": 7,
   "id": "638bab60-80dc-4448-9a24-e567820cfeaa",
   "metadata": {},
   "outputs": [
    {
     "name": "stdout",
     "output_type": "stream",
     "text": [
      "<class 'pandas.core.frame.DataFrame'>\n",
      "RangeIndex: 119390 entries, 0 to 119389\n",
      "Data columns (total 8 columns):\n",
      " #   Column              Non-Null Count   Dtype \n",
      "---  ------              --------------   ----- \n",
      " 0   hotel               119390 non-null  object\n",
      " 1   is_canceled         119390 non-null  int64 \n",
      " 2   arrival_date_year   119390 non-null  int64 \n",
      " 3   arrival_date_month  119390 non-null  object\n",
      " 4   country             119390 non-null  object\n",
      " 5   reservation_status  119390 non-null  object\n",
      " 6   room_status         119390 non-null  object\n",
      " 7   guest_type          119390 non-null  object\n",
      "dtypes: int64(2), object(6)\n",
      "memory usage: 7.3+ MB\n"
     ]
    }
   ],
   "source": [
    "data.info()"
   ]
  },
  {
   "cell_type": "markdown",
   "id": "30c5e15c-d4ec-4995-ac45-fb1a4c676879",
   "metadata": {},
   "source": [
    "# Change Columns Name..."
   ]
  },
  {
   "cell_type": "code",
   "execution_count": 8,
   "id": "4ce26ea2-3cd0-4560-9c09-2bba6681dab8",
   "metadata": {},
   "outputs": [
    {
     "data": {
      "text/html": [
       "<div>\n",
       "<style scoped>\n",
       "    .dataframe tbody tr th:only-of-type {\n",
       "        vertical-align: middle;\n",
       "    }\n",
       "\n",
       "    .dataframe tbody tr th {\n",
       "        vertical-align: top;\n",
       "    }\n",
       "\n",
       "    .dataframe thead th {\n",
       "        text-align: right;\n",
       "    }\n",
       "</style>\n",
       "<table border=\"1\" class=\"dataframe\">\n",
       "  <thead>\n",
       "    <tr style=\"text-align: right;\">\n",
       "      <th></th>\n",
       "      <th>hotel</th>\n",
       "      <th>is_canceled</th>\n",
       "      <th>arrival_date_year</th>\n",
       "      <th>arrival_date_month</th>\n",
       "      <th>country</th>\n",
       "      <th>reservation_status</th>\n",
       "      <th>room_status</th>\n",
       "      <th>guest_type</th>\n",
       "    </tr>\n",
       "  </thead>\n",
       "  <tbody>\n",
       "    <tr>\n",
       "      <th>0</th>\n",
       "      <td>Resort Hotel</td>\n",
       "      <td>0</td>\n",
       "      <td>2015</td>\n",
       "      <td>July</td>\n",
       "      <td>PRT</td>\n",
       "      <td>Check-Out</td>\n",
       "      <td>Desired</td>\n",
       "      <td>Couples</td>\n",
       "    </tr>\n",
       "    <tr>\n",
       "      <th>1</th>\n",
       "      <td>Resort Hotel</td>\n",
       "      <td>0</td>\n",
       "      <td>2015</td>\n",
       "      <td>July</td>\n",
       "      <td>PRT</td>\n",
       "      <td>Check-Out</td>\n",
       "      <td>Desired</td>\n",
       "      <td>Couples</td>\n",
       "    </tr>\n",
       "    <tr>\n",
       "      <th>2</th>\n",
       "      <td>Resort Hotel</td>\n",
       "      <td>0</td>\n",
       "      <td>2015</td>\n",
       "      <td>July</td>\n",
       "      <td>GBR</td>\n",
       "      <td>Check-Out</td>\n",
       "      <td>Un-Desired</td>\n",
       "      <td>Single</td>\n",
       "    </tr>\n",
       "  </tbody>\n",
       "</table>\n",
       "</div>"
      ],
      "text/plain": [
       "          hotel  is_canceled  arrival_date_year arrival_date_month country  \\\n",
       "0  Resort Hotel            0               2015               July     PRT   \n",
       "1  Resort Hotel            0               2015               July     PRT   \n",
       "2  Resort Hotel            0               2015               July     GBR   \n",
       "\n",
       "  reservation_status room_status guest_type  \n",
       "0          Check-Out     Desired    Couples  \n",
       "1          Check-Out     Desired    Couples  \n",
       "2          Check-Out  Un-Desired     Single  "
      ]
     },
     "execution_count": 8,
     "metadata": {},
     "output_type": "execute_result"
    }
   ],
   "source": [
    "data.head(3)"
   ]
  },
  {
   "cell_type": "code",
   "execution_count": 9,
   "id": "65b593e5-203e-4860-8ca9-e64d64d6027e",
   "metadata": {},
   "outputs": [],
   "source": [
    "data = data.rename(columns={\"arrival_date_year\":\"arrival_year\", \"arrival_date_month\":\"arrival_month\"})"
   ]
  },
  {
   "cell_type": "markdown",
   "id": "80dbfc64-1615-4450-b20e-dcf20be4cde4",
   "metadata": {},
   "source": [
    "# Remove Duplicates..."
   ]
  },
  {
   "cell_type": "code",
   "execution_count": 10,
   "id": "2b7e2f31-67c3-437c-acef-5c30a8fb516a",
   "metadata": {},
   "outputs": [
    {
     "data": {
      "text/plain": [
       "0         False\n",
       "1          True\n",
       "2         False\n",
       "3         False\n",
       "4         False\n",
       "          ...  \n",
       "119385     True\n",
       "119386     True\n",
       "119387     True\n",
       "119388     True\n",
       "119389     True\n",
       "Length: 119390, dtype: bool"
      ]
     },
     "execution_count": 10,
     "metadata": {},
     "output_type": "execute_result"
    }
   ],
   "source": [
    "data.duplicated()"
   ]
  },
  {
   "cell_type": "code",
   "execution_count": 11,
   "id": "fd764c67-6c04-41a0-94a3-ae15225fb9b2",
   "metadata": {},
   "outputs": [],
   "source": [
    "data.drop_duplicates(inplace=True)"
   ]
  },
  {
   "cell_type": "code",
   "execution_count": 12,
   "id": "3da584cc-a8bb-4524-92f9-16e5189ae409",
   "metadata": {},
   "outputs": [
    {
     "data": {
      "text/plain": [
       "(9852, 8)"
      ]
     },
     "execution_count": 12,
     "metadata": {},
     "output_type": "execute_result"
    }
   ],
   "source": [
    "data.shape"
   ]
  },
  {
   "cell_type": "code",
   "execution_count": 13,
   "id": "df8f979b-079a-475b-b930-5e9618a24e97",
   "metadata": {},
   "outputs": [
    {
     "data": {
      "text/html": [
       "<div>\n",
       "<style scoped>\n",
       "    .dataframe tbody tr th:only-of-type {\n",
       "        vertical-align: middle;\n",
       "    }\n",
       "\n",
       "    .dataframe tbody tr th {\n",
       "        vertical-align: top;\n",
       "    }\n",
       "\n",
       "    .dataframe thead th {\n",
       "        text-align: right;\n",
       "    }\n",
       "</style>\n",
       "<table border=\"1\" class=\"dataframe\">\n",
       "  <thead>\n",
       "    <tr style=\"text-align: right;\">\n",
       "      <th></th>\n",
       "      <th>hotel</th>\n",
       "      <th>is_canceled</th>\n",
       "      <th>arrival_year</th>\n",
       "      <th>arrival_month</th>\n",
       "      <th>country</th>\n",
       "      <th>reservation_status</th>\n",
       "      <th>room_status</th>\n",
       "      <th>guest_type</th>\n",
       "    </tr>\n",
       "  </thead>\n",
       "  <tbody>\n",
       "    <tr>\n",
       "      <th>0</th>\n",
       "      <td>Resort Hotel</td>\n",
       "      <td>0</td>\n",
       "      <td>2015</td>\n",
       "      <td>July</td>\n",
       "      <td>PRT</td>\n",
       "      <td>Check-Out</td>\n",
       "      <td>Desired</td>\n",
       "      <td>Couples</td>\n",
       "    </tr>\n",
       "    <tr>\n",
       "      <th>2</th>\n",
       "      <td>Resort Hotel</td>\n",
       "      <td>0</td>\n",
       "      <td>2015</td>\n",
       "      <td>July</td>\n",
       "      <td>GBR</td>\n",
       "      <td>Check-Out</td>\n",
       "      <td>Un-Desired</td>\n",
       "      <td>Single</td>\n",
       "    </tr>\n",
       "    <tr>\n",
       "      <th>3</th>\n",
       "      <td>Resort Hotel</td>\n",
       "      <td>0</td>\n",
       "      <td>2015</td>\n",
       "      <td>July</td>\n",
       "      <td>GBR</td>\n",
       "      <td>Check-Out</td>\n",
       "      <td>Desired</td>\n",
       "      <td>Single</td>\n",
       "    </tr>\n",
       "  </tbody>\n",
       "</table>\n",
       "</div>"
      ],
      "text/plain": [
       "          hotel  is_canceled  arrival_year arrival_month country  \\\n",
       "0  Resort Hotel            0          2015          July     PRT   \n",
       "2  Resort Hotel            0          2015          July     GBR   \n",
       "3  Resort Hotel            0          2015          July     GBR   \n",
       "\n",
       "  reservation_status room_status guest_type  \n",
       "0          Check-Out     Desired    Couples  \n",
       "2          Check-Out  Un-Desired     Single  \n",
       "3          Check-Out     Desired     Single  "
      ]
     },
     "execution_count": 13,
     "metadata": {},
     "output_type": "execute_result"
    }
   ],
   "source": [
    "data.head(3)"
   ]
  },
  {
   "cell_type": "markdown",
   "id": "4f891e66-fc21-493c-b750-8fc91aee7237",
   "metadata": {},
   "source": [
    "# Feature Encoding..."
   ]
  },
  {
   "cell_type": "code",
   "execution_count": 14,
   "id": "b8759e5f-9240-43ee-ab55-8952b2f677ff",
   "metadata": {},
   "outputs": [],
   "source": [
    "from sklearn.preprocessing import LabelEncoder"
   ]
  },
  {
   "cell_type": "code",
   "execution_count": 15,
   "id": "b84cefe4-de13-45c4-a186-76b8ceb837d0",
   "metadata": {},
   "outputs": [],
   "source": [
    "le_hotel = LabelEncoder()\n",
    "data[\"hotel\"] = le_hotel.fit_transform(data[\"hotel\"])"
   ]
  },
  {
   "cell_type": "code",
   "execution_count": 16,
   "id": "0ab54614-f672-4002-ba67-2d4d4f89c201",
   "metadata": {},
   "outputs": [],
   "source": [
    "le_arrival_month = LabelEncoder()\n",
    "data[\"arrival_month\"] = le_arrival_month.fit_transform(data[\"arrival_month\"])"
   ]
  },
  {
   "cell_type": "code",
   "execution_count": 17,
   "id": "e16b599e-79ca-4e3c-b79c-2fd55d2472e1",
   "metadata": {},
   "outputs": [],
   "source": [
    "le_country = LabelEncoder()\n",
    "data[\"country\"] = le_country.fit_transform(data[\"country\"])"
   ]
  },
  {
   "cell_type": "code",
   "execution_count": 18,
   "id": "979f7008-a0f3-4a69-b264-288a2505ad2b",
   "metadata": {},
   "outputs": [],
   "source": [
    "le_reservation_status = LabelEncoder()\n",
    "data[\"reservation_status\"] = le_reservation_status.fit_transform(data[\"reservation_status\"])"
   ]
  },
  {
   "cell_type": "code",
   "execution_count": 19,
   "id": "d551bab7-61ea-4efb-86c3-8b3156af1118",
   "metadata": {},
   "outputs": [],
   "source": [
    "le_room_status = LabelEncoder()\n",
    "data[\"room_status\"] = le_room_status.fit_transform(data[\"room_status\"])"
   ]
  },
  {
   "cell_type": "code",
   "execution_count": 20,
   "id": "9d0d1086-58f7-44e4-8c2b-8e084b8ad967",
   "metadata": {},
   "outputs": [],
   "source": [
    "le_guest_type = LabelEncoder()\n",
    "data[\"guest_type\"] = le_guest_type.fit_transform(data[\"guest_type\"])"
   ]
  },
  {
   "cell_type": "code",
   "execution_count": 21,
   "id": "78b8e744-530f-4ebf-8f51-1e3df2970fa1",
   "metadata": {},
   "outputs": [
    {
     "data": {
      "text/html": [
       "<div>\n",
       "<style scoped>\n",
       "    .dataframe tbody tr th:only-of-type {\n",
       "        vertical-align: middle;\n",
       "    }\n",
       "\n",
       "    .dataframe tbody tr th {\n",
       "        vertical-align: top;\n",
       "    }\n",
       "\n",
       "    .dataframe thead th {\n",
       "        text-align: right;\n",
       "    }\n",
       "</style>\n",
       "<table border=\"1\" class=\"dataframe\">\n",
       "  <thead>\n",
       "    <tr style=\"text-align: right;\">\n",
       "      <th></th>\n",
       "      <th>hotel</th>\n",
       "      <th>is_canceled</th>\n",
       "      <th>arrival_year</th>\n",
       "      <th>arrival_month</th>\n",
       "      <th>country</th>\n",
       "      <th>reservation_status</th>\n",
       "      <th>room_status</th>\n",
       "      <th>guest_type</th>\n",
       "    </tr>\n",
       "  </thead>\n",
       "  <tbody>\n",
       "    <tr>\n",
       "      <th>0</th>\n",
       "      <td>1</td>\n",
       "      <td>0</td>\n",
       "      <td>2015</td>\n",
       "      <td>5</td>\n",
       "      <td>135</td>\n",
       "      <td>1</td>\n",
       "      <td>0</td>\n",
       "      <td>0</td>\n",
       "    </tr>\n",
       "    <tr>\n",
       "      <th>2</th>\n",
       "      <td>1</td>\n",
       "      <td>0</td>\n",
       "      <td>2015</td>\n",
       "      <td>5</td>\n",
       "      <td>59</td>\n",
       "      <td>1</td>\n",
       "      <td>1</td>\n",
       "      <td>2</td>\n",
       "    </tr>\n",
       "    <tr>\n",
       "      <th>3</th>\n",
       "      <td>1</td>\n",
       "      <td>0</td>\n",
       "      <td>2015</td>\n",
       "      <td>5</td>\n",
       "      <td>59</td>\n",
       "      <td>1</td>\n",
       "      <td>0</td>\n",
       "      <td>2</td>\n",
       "    </tr>\n",
       "  </tbody>\n",
       "</table>\n",
       "</div>"
      ],
      "text/plain": [
       "   hotel  is_canceled  arrival_year  arrival_month  country  \\\n",
       "0      1            0          2015              5      135   \n",
       "2      1            0          2015              5       59   \n",
       "3      1            0          2015              5       59   \n",
       "\n",
       "   reservation_status  room_status  guest_type  \n",
       "0                   1            0           0  \n",
       "2                   1            1           2  \n",
       "3                   1            0           2  "
      ]
     },
     "execution_count": 21,
     "metadata": {},
     "output_type": "execute_result"
    }
   ],
   "source": [
    "data.head(3)"
   ]
  },
  {
   "cell_type": "markdown",
   "id": "b551eea7-cf14-4f5b-9308-bf393be2ceeb",
   "metadata": {},
   "source": [
    "# Check Outliers"
   ]
  },
  {
   "cell_type": "code",
   "execution_count": 22,
   "id": "778f431d-5f13-42f4-8735-1af420b45553",
   "metadata": {},
   "outputs": [],
   "source": [
    "import seaborn as sns\n",
    "import matplotlib.pyplot as plt"
   ]
  },
  {
   "cell_type": "code",
   "execution_count": 23,
   "id": "8f374bbd-8884-49d4-bf34-67f1b31d8e81",
   "metadata": {},
   "outputs": [
    {
     "data": {
      "image/png": "[encoded data removed]",
      "text/plain": [
       "<Figure size 500x400 with 1 Axes>"
      ]
     },
     "metadata": {},
     "output_type": "display_data"
    }
   ],
   "source": [
    "plt.figure(figsize=(5,4))\n",
    "sns.boxplot(x = \"country\", data = data)\n",
    "plt.show()"
   ]
  },
  {
   "cell_type": "markdown",
   "id": "62ac0d80-dfe7-4ff9-b482-7b70f82ae6a3",
   "metadata": {},
   "source": [
    "# To check correlations..."
   ]
  },
  {
   "cell_type": "code",
   "execution_count": 24,
   "id": "fc74658c-17b4-4c5c-b12c-b8a19594484e",
   "metadata": {},
   "outputs": [
    {
     "data": {
      "image/png": "[encoded data removed]",
      "text/plain": [
       "<Figure size 700x500 with 2 Axes>"
      ]
     },
     "metadata": {},
     "output_type": "display_data"
    }
   ],
   "source": [
    "plt.figure(figsize=(7,5))\n",
    "sns.heatmap(data.corr(), annot=True)\n",
    "plt.show()"
   ]
  },
  {
   "cell_type": "markdown",
   "id": "4d8da37a-4c17-472c-8b8e-db7a59333fd4",
   "metadata": {},
   "source": [
    "# Feature Scalling..."
   ]
  },
  {
   "cell_type": "code",
   "execution_count": 25,
   "id": "63ec0726-02e9-4ccf-ba17-6affce2c8324",
   "metadata": {},
   "outputs": [],
   "source": [
    "x = data.drop(columns=\"is_canceled\")\n",
    "y = data['is_canceled']"
   ]
  },
  {
   "cell_type": "code",
   "execution_count": 26,
   "id": "61dec9e1-324f-4202-a3df-615a71c5356d",
   "metadata": {},
   "outputs": [
    {
     "data": {
      "text/html": [
       "<div>\n",
       "<style scoped>\n",
       "    .dataframe tbody tr th:only-of-type {\n",
       "        vertical-align: middle;\n",
       "    }\n",
       "\n",
       "    .dataframe tbody tr th {\n",
       "        vertical-align: top;\n",
       "    }\n",
       "\n",
       "    .dataframe thead th {\n",
       "        text-align: right;\n",
       "    }\n",
       "</style>\n",
       "<table border=\"1\" class=\"dataframe\">\n",
       "  <thead>\n",
       "    <tr style=\"text-align: right;\">\n",
       "      <th></th>\n",
       "      <th>hotel</th>\n",
       "      <th>arrival_year</th>\n",
       "      <th>arrival_month</th>\n",
       "      <th>country</th>\n",
       "      <th>reservation_status</th>\n",
       "      <th>room_status</th>\n",
       "      <th>guest_type</th>\n",
       "    </tr>\n",
       "  </thead>\n",
       "  <tbody>\n",
       "    <tr>\n",
       "      <th>0</th>\n",
       "      <td>1.350157</td>\n",
       "      <td>-1.809741</td>\n",
       "      <td>-0.102786</td>\n",
       "      <td>1.107217</td>\n",
       "      <td>0.437298</td>\n",
       "      <td>-0.577194</td>\n",
       "      <td>-0.956264</td>\n",
       "    </tr>\n",
       "    <tr>\n",
       "      <th>1</th>\n",
       "      <td>1.350157</td>\n",
       "      <td>-1.809741</td>\n",
       "      <td>-0.102786</td>\n",
       "      <td>-0.436947</td>\n",
       "      <td>0.437298</td>\n",
       "      <td>1.732520</td>\n",
       "      <td>1.454153</td>\n",
       "    </tr>\n",
       "    <tr>\n",
       "      <th>2</th>\n",
       "      <td>1.350157</td>\n",
       "      <td>-1.809741</td>\n",
       "      <td>-0.102786</td>\n",
       "      <td>-0.436947</td>\n",
       "      <td>0.437298</td>\n",
       "      <td>-0.577194</td>\n",
       "      <td>1.454153</td>\n",
       "    </tr>\n",
       "    <tr>\n",
       "      <th>3</th>\n",
       "      <td>1.350157</td>\n",
       "      <td>-1.809741</td>\n",
       "      <td>-0.102786</td>\n",
       "      <td>-0.436947</td>\n",
       "      <td>0.437298</td>\n",
       "      <td>-0.577194</td>\n",
       "      <td>-0.956264</td>\n",
       "    </tr>\n",
       "  </tbody>\n",
       "</table>\n",
       "</div>"
      ],
      "text/plain": [
       "      hotel  arrival_year  arrival_month   country  reservation_status  \\\n",
       "0  1.350157     -1.809741      -0.102786  1.107217            0.437298   \n",
       "1  1.350157     -1.809741      -0.102786 -0.436947            0.437298   \n",
       "2  1.350157     -1.809741      -0.102786 -0.436947            0.437298   \n",
       "3  1.350157     -1.809741      -0.102786 -0.436947            0.437298   \n",
       "\n",
       "   room_status  guest_type  \n",
       "0    -0.577194   -0.956264  \n",
       "1     1.732520    1.454153  \n",
       "2    -0.577194    1.454153  \n",
       "3    -0.577194   -0.956264  "
      ]
     },
     "execution_count": 26,
     "metadata": {},
     "output_type": "execute_result"
    }
   ],
   "source": [
    "from sklearn.preprocessing import StandardScaler\n",
    "\n",
    "sc = StandardScaler()\n",
    "sc.fit_transform(x)\n",
    "\n",
    "x = pd.DataFrame(sc.fit_transform(x), columns=x.columns)\n",
    "x.head(4)"
   ]
  },
  {
   "cell_type": "markdown",
   "id": "cc27b342-b625-4860-9aba-746cb563f821",
   "metadata": {},
   "source": [
    "# Input Output Spliting..."
   ]
  },
  {
   "cell_type": "code",
   "execution_count": 27,
   "id": "3b43d7ec-af05-44d1-9cd5-fb4cf12e4700",
   "metadata": {},
   "outputs": [],
   "source": [
    "from sklearn.model_selection import train_test_split\n",
    "\n",
    "x_train,x_test,y_train,y_test = train_test_split(x,y, test_size=0.2, random_state=52)"
   ]
  },
  {
   "cell_type": "markdown",
   "id": "809d4350-effc-4129-b1c2-21e7ef9f8d32",
   "metadata": {},
   "source": [
    "# Model Applying..."
   ]
  },
  {
   "cell_type": "code",
   "execution_count": 28,
   "id": "f069ba95-53a3-48d2-968e-4376367b8185",
   "metadata": {},
   "outputs": [],
   "source": [
    "from sklearn.linear_model import LogisticRegression\n",
    "from sklearn.naive_bayes import GaussianNB\n",
    "from sklearn.svm import SVC\n",
    "from sklearn.tree import DecisionTreeClassifier\n",
    "from sklearn.neighbors import KNeighborsClassifier\n",
    "from sklearn.ensemble import BaggingClassifier, RandomForestClassifier, VotingClassifier"
   ]
  },
  {
   "cell_type": "code",
   "execution_count": 29,
   "id": "e5b9009c-2715-45e0-ac0c-bec0c29736d4",
   "metadata": {},
   "outputs": [
    {
     "data": {
      "text/plain": [
       "(99.84779299847793, 99.35287400076133)"
      ]
     },
     "execution_count": 29,
     "metadata": {},
     "output_type": "execute_result"
    }
   ],
   "source": [
    "sv = SVC(kernel='poly')\n",
    "sv.fit(x_train,y_train)\n",
    "sv.score(x_test,y_test)*100 , sv.score(x_train,y_train)*100"
   ]
  },
  {
   "cell_type": "code",
   "execution_count": 30,
   "id": "6bc8cdcb-3829-43df-936a-bf9ca6cd0d58",
   "metadata": {},
   "outputs": [
    {
     "data": {
      "text/plain": [
       "(100.0, 100.0)"
      ]
     },
     "execution_count": 30,
     "metadata": {},
     "output_type": "execute_result"
    }
   ],
   "source": [
    "dc = DecisionTreeClassifier(max_depth=6)\n",
    "dc.fit(x_train,y_train)\n",
    "dc.score(x_test,y_test)*100 , dc.score(x_train,y_train)*100"
   ]
  },
  {
   "cell_type": "markdown",
   "id": "b0f37efe-135b-4253-a8bb-c7051ae01810",
   "metadata": {},
   "source": [
    "# Confusion Metrix..."
   ]
  },
  {
   "cell_type": "code",
   "execution_count": 31,
   "id": "54a425a1-c43d-493b-ba4d-28e665b23113",
   "metadata": {},
   "outputs": [],
   "source": [
    "from sklearn.metrics import confusion_matrix, precision_score, recall_score, f1_score"
   ]
  },
  {
   "cell_type": "code",
   "execution_count": 32,
   "id": "782ad713-a4ac-4176-addc-4af89d4b6949",
   "metadata": {},
   "outputs": [
    {
     "data": {
      "text/plain": [
       "array([[1307,    0],\n",
       "       [   0,  664]], dtype=int64)"
      ]
     },
     "execution_count": 32,
     "metadata": {},
     "output_type": "execute_result"
    }
   ],
   "source": [
    "# Compute confusion matrix\n",
    "cf = confusion_matrix(y_test, dc.predict(x_test))\n",
    "cf"
   ]
  },
  {
   "cell_type": "code",
   "execution_count": 33,
   "id": "89b84184-3667-4e49-aab3-26ee1fea49e3",
   "metadata": {},
   "outputs": [
    {
     "data": {
      "text/plain": [
       "100.0"
      ]
     },
     "execution_count": 33,
     "metadata": {},
     "output_type": "execute_result"
    }
   ],
   "source": [
    "precision_score(y_test, dc.predict(x_test))*100"
   ]
  },
  {
   "cell_type": "code",
   "execution_count": 34,
   "id": "30decd90-1066-47d7-bb10-f1ef27184825",
   "metadata": {},
   "outputs": [
    {
     "data": {
      "text/plain": [
       "100.0"
      ]
     },
     "execution_count": 34,
     "metadata": {},
     "output_type": "execute_result"
    }
   ],
   "source": [
    "recall_score(y_test, dc.predict(x_test))*100"
   ]
  },
  {
   "cell_type": "code",
   "execution_count": 35,
   "id": "209a7763-b03f-4423-ae56-cac979065632",
   "metadata": {},
   "outputs": [
    {
     "data": {
      "text/plain": [
       "100.0"
      ]
     },
     "execution_count": 35,
     "metadata": {},
     "output_type": "execute_result"
    }
   ],
   "source": [
    "f1_score(y_test, dc.predict(x_test))*100"
   ]
  },
  {
   "cell_type": "markdown",
   "id": "0d207d13-5fce-4355-bb26-9d0cb019a203",
   "metadata": {},
   "source": [
    "# To check errors..."
   ]
  },
  {
   "cell_type": "code",
   "execution_count": 36,
   "id": "bf7d9b5f-3317-45de-ad5a-38f8b6c38f20",
   "metadata": {},
   "outputs": [
    {
     "data": {
      "text/plain": [
       "(0.0, 0.0)"
      ]
     },
     "execution_count": 36,
     "metadata": {},
     "output_type": "execute_result"
    }
   ],
   "source": [
    "from sklearn.metrics import mean_squared_error, mean_absolute_error\n",
    "\n",
    "mean_squared_error(y_test, dc.predict(x_test)) , mean_absolute_error(y_test, dc.predict(x_test))"
   ]
  },
  {
   "cell_type": "markdown",
   "id": "a27ebdbb-634f-4164-9400-c09a3c2c6f3b",
   "metadata": {},
   "source": [
    "# Model Prediction..."
   ]
  },
  {
   "cell_type": "code",
   "execution_count": 37,
   "id": "a6531d26-fedc-461e-a4fc-30879c7d1f98",
   "metadata": {},
   "outputs": [
    {
     "data": {
      "text/plain": [
       "25562    0\n",
       "38990    0\n",
       "8236     1\n",
       "26469    0\n",
       "50205    0\n",
       "Name: is_canceled, dtype: int64"
      ]
     },
     "execution_count": 37,
     "metadata": {},
     "output_type": "execute_result"
    }
   ],
   "source": [
    "# Real Value...\n",
    "\n",
    "y_test.head()"
   ]
  },
  {
   "cell_type": "code",
   "execution_count": 38,
   "id": "7a290cf0-2e3d-45f5-bf57-3da4ffdfb69c",
   "metadata": {},
   "outputs": [
    {
     "name": "stderr",
     "output_type": "stream",
     "text": [
      "C:\\ProgramData\\anaconda3\\Lib\\site-packages\\sklearn\\base.py:493: UserWarning: X does not have valid feature names, but DecisionTreeClassifier was fitted with feature names\n",
      "  warnings.warn(\n"
     ]
    },
    {
     "data": {
      "text/plain": [
       "array([1], dtype=int64)"
      ]
     },
     "execution_count": 38,
     "metadata": {},
     "output_type": "execute_result"
    }
   ],
   "source": [
    "dc.predict([[1.350157,-0.324563,1.643152,-0.233768,-1.445683,-0.577194,-0.956264]])"
   ]
  },
  {
   "cell_type": "code",
   "execution_count": 39,
   "id": "e9a0db9e-295e-4543-b127-49f079634983",
   "metadata": {},
   "outputs": [
    {
     "data": {
      "text/html": [
       "<div>\n",
       "<style scoped>\n",
       "    .dataframe tbody tr th:only-of-type {\n",
       "        vertical-align: middle;\n",
       "    }\n",
       "\n",
       "    .dataframe tbody tr th {\n",
       "        vertical-align: top;\n",
       "    }\n",
       "\n",
       "    .dataframe thead th {\n",
       "        text-align: right;\n",
       "    }\n",
       "</style>\n",
       "<table border=\"1\" class=\"dataframe\">\n",
       "  <thead>\n",
       "    <tr style=\"text-align: right;\">\n",
       "      <th></th>\n",
       "      <th>hotel</th>\n",
       "      <th>arrival_year</th>\n",
       "      <th>arrival_month</th>\n",
       "      <th>country</th>\n",
       "      <th>reservation_status</th>\n",
       "      <th>room_status</th>\n",
       "      <th>guest_type</th>\n",
       "    </tr>\n",
       "  </thead>\n",
       "  <tbody>\n",
       "    <tr>\n",
       "      <th>2277</th>\n",
       "      <td>1.350157</td>\n",
       "      <td>-0.324563</td>\n",
       "      <td>-0.102786</td>\n",
       "      <td>-1.615389</td>\n",
       "      <td>0.437298</td>\n",
       "      <td>-0.577194</td>\n",
       "      <td>0.248944</td>\n",
       "    </tr>\n",
       "    <tr>\n",
       "      <th>3402</th>\n",
       "      <td>1.350157</td>\n",
       "      <td>1.160616</td>\n",
       "      <td>-1.266744</td>\n",
       "      <td>-0.599491</td>\n",
       "      <td>0.437298</td>\n",
       "      <td>-0.577194</td>\n",
       "      <td>0.248944</td>\n",
       "    </tr>\n",
       "    <tr>\n",
       "      <th>873</th>\n",
       "      <td>1.350157</td>\n",
       "      <td>-0.324563</td>\n",
       "      <td>1.643152</td>\n",
       "      <td>-0.233768</td>\n",
       "      <td>-1.445683</td>\n",
       "      <td>-0.577194</td>\n",
       "      <td>-0.956264</td>\n",
       "    </tr>\n",
       "    <tr>\n",
       "      <th>2356</th>\n",
       "      <td>1.350157</td>\n",
       "      <td>-0.324563</td>\n",
       "      <td>-0.102786</td>\n",
       "      <td>1.310397</td>\n",
       "      <td>0.437298</td>\n",
       "      <td>1.732520</td>\n",
       "      <td>-0.956264</td>\n",
       "    </tr>\n",
       "    <tr>\n",
       "      <th>4646</th>\n",
       "      <td>-0.740655</td>\n",
       "      <td>-0.324563</td>\n",
       "      <td>-1.557734</td>\n",
       "      <td>1.208807</td>\n",
       "      <td>0.437298</td>\n",
       "      <td>-0.577194</td>\n",
       "      <td>-0.956264</td>\n",
       "    </tr>\n",
       "  </tbody>\n",
       "</table>\n",
       "</div>"
      ],
      "text/plain": [
       "         hotel  arrival_year  arrival_month   country  reservation_status  \\\n",
       "2277  1.350157     -0.324563      -0.102786 -1.615389            0.437298   \n",
       "3402  1.350157      1.160616      -1.266744 -0.599491            0.437298   \n",
       "873   1.350157     -0.324563       1.643152 -0.233768           -1.445683   \n",
       "2356  1.350157     -0.324563      -0.102786  1.310397            0.437298   \n",
       "4646 -0.740655     -0.324563      -1.557734  1.208807            0.437298   \n",
       "\n",
       "      room_status  guest_type  \n",
       "2277    -0.577194    0.248944  \n",
       "3402    -0.577194    0.248944  \n",
       "873     -0.577194   -0.956264  \n",
       "2356     1.732520   -0.956264  \n",
       "4646    -0.577194   -0.956264  "
      ]
     },
     "execution_count": 39,
     "metadata": {},
     "output_type": "execute_result"
    }
   ],
   "source": [
    "x_test.head()"
   ]
  }
 ],
 "metadata": {
  "kernelspec": {
   "display_name": "Python 3 (ipykernel)",
   "language": "python",
   "name": "python3"
  },
  "language_info": {
   "codemirror_mode": {
    "name": "ipython",
    "version": 3
   },
   "file_extension": ".py",
   "mimetype": "text/x-python",
   "name": "python",
   "nbconvert_exporter": "python",
   "pygments_lexer": "ipython3",
   "version": "3.12.4"
  }
 },
 "nbformat": 4,
 "nbformat_minor": 5
}
